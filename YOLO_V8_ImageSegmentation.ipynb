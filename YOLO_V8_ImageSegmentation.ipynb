{
  "nbformat": 4,
  "nbformat_minor": 0,
  "metadata": {
    "colab": {
      "provenance": [],
      "gpuType": "T4"
    },
    "kernelspec": {
      "name": "python3",
      "display_name": "Python 3"
    },
    "language_info": {
      "name": "python"
    },
    "accelerator": "GPU"
  },
  "cells": [
    {
      "cell_type": "code",
      "execution_count": 1,
      "metadata": {
        "id": "yj792T4pQfl3"
      },
      "outputs": [],
      "source": [
        "import gdown"
      ]
    },
    {
      "cell_type": "code",
      "source": [
        "label_url=\"https://drive.google.com/drive/folders/1d1j7THN37IA2PDfQg8Es_hK7YH3WwwZj?usp=drive_link\"\n",
        "img_url=\"https://drive.google.com/drive/folders/15Rjw7TjU1gyYoSkuPOLb3GRRXoFW2O3h?usp=drive_link\""
      ],
      "metadata": {
        "id": "osmiVhGBQq29"
      },
      "execution_count": 2,
      "outputs": []
    },
    {
      "cell_type": "code",
      "source": [
        "gdown.download_folder(label_url,remaining_ok=True)"
      ],
      "metadata": {
        "id": "zv2jkevAQ7b7"
      },
      "execution_count": null,
      "outputs": []
    },
    {
      "cell_type": "code",
      "source": [
        "import os\n",
        "len(os.listdir(\"/content/labels/val\"))"
      ],
      "metadata": {
        "colab": {
          "base_uri": "https://localhost:8080/"
        },
        "id": "rUrF4rh7RCzG",
        "outputId": "4f59fec1-606d-47da-d4fb-bf76d200569b"
      },
      "execution_count": 7,
      "outputs": [
        {
          "output_type": "execute_result",
          "data": {
            "text/plain": [
              "50"
            ]
          },
          "metadata": {},
          "execution_count": 7
        }
      ]
    },
    {
      "cell_type": "code",
      "source": [
        "gdown.download_folder(\"https://drive.google.com/drive/folders/1XFmq0_VGKN0peyiMk8z2jkz8mMh2IatV?usp=drive_link\",remaining_ok=True)"
      ],
      "metadata": {
        "id": "9HmQxyKfSCuV"
      },
      "execution_count": null,
      "outputs": []
    },
    {
      "cell_type": "code",
      "source": [
        "gdown.download_folder(\"https://drive.google.com/drive/folders/1XFmq0_VGKN0peyiMk8z2jkz8mMh2IatV\",remaining_ok=True)"
      ],
      "metadata": {
        "id": "YrTpfqKhWyDG"
      },
      "execution_count": null,
      "outputs": []
    },
    {
      "cell_type": "code",
      "source": [
        "gdown.download_folder(\"https://drive.google.com/drive/folders/1BuW1Z6wZD0SOneFNCVxfbshAPsKxmPfM\",remaining_ok=True)"
      ],
      "metadata": {
        "id": "83CffBQNSZ9S"
      },
      "execution_count": null,
      "outputs": []
    },
    {
      "cell_type": "code",
      "source": [
        "len(set([ os.path.splitext(i)[0] for i in os.listdir(\"images/val\")]) | set([ os.path.splitext(i)[0] for i in os.listdir(\"labels/val\")]))"
      ],
      "metadata": {
        "colab": {
          "base_uri": "https://localhost:8080/"
        },
        "id": "VPnEdnQESsSB",
        "outputId": "bba6ef4d-c1ae-4e78-ac7c-abac5ffa9708"
      },
      "execution_count": 27,
      "outputs": [
        {
          "output_type": "execute_result",
          "data": {
            "text/plain": [
              "50"
            ]
          },
          "metadata": {},
          "execution_count": 27
        }
      ]
    },
    {
      "cell_type": "code",
      "source": [],
      "metadata": {
        "colab": {
          "base_uri": "https://localhost:8080/"
        },
        "id": "VJ_5ZmK0ZMoU",
        "outputId": "e4cea0e0-563f-4a86-f221-caaadaa69416"
      },
      "execution_count": 21,
      "outputs": [
        {
          "output_type": "execute_result",
          "data": {
            "text/plain": [
              "{1, 2, 3, 7, 8}"
            ]
          },
          "metadata": {},
          "execution_count": 21
        }
      ]
    },
    {
      "cell_type": "code",
      "source": [
        "set([ os.path.splitext(i)[0] for i in os.listdir(\"images/train\")])"
      ],
      "metadata": {
        "id": "SUsCeKo5ZZBW"
      },
      "execution_count": null,
      "outputs": []
    },
    {
      "cell_type": "code",
      "source": [
        "import shutil\n",
        "os.makedirs(\"data/train\")\n",
        "os.makedirs(\"data/test\")"
      ],
      "metadata": {
        "id": "6sqZIU_aZfZa"
      },
      "execution_count": 28,
      "outputs": []
    },
    {
      "cell_type": "code",
      "source": [
        "imgs=[\"images/train\",\"images/test\"]\n",
        "labs=[\"labels/train\",\"labels/test\"]"
      ],
      "metadata": {
        "id": "hBQ-93Dlafts"
      },
      "execution_count": 32,
      "outputs": []
    },
    {
      "cell_type": "code",
      "source": [
        "os.makedirs(\"data/train\")\n",
        "os.makedirs(\"data/val\")\n",
        "shutil.move(\"images/train\",\"data/train\")\n",
        "shutil.move(\"labels/lab_train\",\"data/train\")\n",
        "\n",
        "shutil.move(\"images/val\",\"data/val\")\n",
        "shutil.move(\"labels/lab_val\",\"data/val\")"
      ],
      "metadata": {
        "colab": {
          "base_uri": "https://localhost:8080/",
          "height": 35
        },
        "id": "wxTphLiiavnn",
        "outputId": "e75d5fb6-79c8-4882-b7e5-7b088debf774"
      },
      "execution_count": 35,
      "outputs": [
        {
          "output_type": "execute_result",
          "data": {
            "text/plain": [
              "'data/val/lab_val'"
            ],
            "application/vnd.google.colaboratory.intrinsic+json": {
              "type": "string"
            }
          },
          "metadata": {},
          "execution_count": 35
        }
      ]
    },
    {
      "cell_type": "code",
      "source": [
        "import glob\n",
        "import yaml\n",
        "# for txt in glob.glob(\"data/train/labels/*.txt\"):\n",
        "#   with open(txt) as f:\n",
        "#     for i in f.readlines():\n",
        "#       if int(i[0])>0:\n",
        "#         print(txt)"
      ],
      "metadata": {
        "id": "mKCJc3XlazOU"
      },
      "execution_count": 46,
      "outputs": []
    },
    {
      "cell_type": "code",
      "source": [
        "data={\n",
        "    \"train\":\"/content/data/train/images\",\n",
        "    \"val\":\"/content/data/val/images\",\n",
        "    \"nc\":1,\n",
        "    \"names\":[\"duck\"]}\n",
        "\n",
        "with open(\"custom_data.yaml\",\"w\") as yf:\n",
        "  yaml.safe_dump(data,yf)"
      ],
      "metadata": {
        "id": "9vEjP35TenVI"
      },
      "execution_count": 49,
      "outputs": []
    },
    {
      "cell_type": "code",
      "source": [
        "!pip install ultralytics -q"
      ],
      "metadata": {
        "colab": {
          "base_uri": "https://localhost:8080/"
        },
        "id": "j1ZEVHlxfuYx",
        "outputId": "bf4f6f48-f05e-400e-932e-cd33b946edc9"
      },
      "execution_count": 50,
      "outputs": [
        {
          "output_type": "stream",
          "name": "stdout",
          "text": [
            "\u001b[?25l     \u001b[90m━━━━━━━━━━━━━━━━━━━━━━━━━━━━━━━━━━━━━━━━\u001b[0m \u001b[32m0.0/607.6 kB\u001b[0m \u001b[31m?\u001b[0m eta \u001b[36m-:--:--\u001b[0m\r\u001b[2K     \u001b[91m━━━━━━━━━━━━━━━━━━━━━━━━━━━━━━━━\u001b[0m\u001b[90m╺\u001b[0m\u001b[90m━━━━━\u001b[0m \u001b[32m512.0/607.6 kB\u001b[0m \u001b[31m15.1 MB/s\u001b[0m eta \u001b[36m0:00:01\u001b[0m\r\u001b[2K     \u001b[90m━━━━━━━━━━━━━━━━━━━━━━━━━━━━━━━━━━━━━━\u001b[0m \u001b[32m607.6/607.6 kB\u001b[0m \u001b[31m13.3 MB/s\u001b[0m eta \u001b[36m0:00:00\u001b[0m\n",
            "\u001b[?25h"
          ]
        }
      ]
    },
    {
      "cell_type": "code",
      "source": [
        "from ultralytics import YOLO\n",
        "# !yolo task=segment mode=predict model=yolov8n-seg.pt source=dog_1.jpg"
      ],
      "metadata": {
        "id": "Xv6t9vFlgXEk"
      },
      "execution_count": 52,
      "outputs": []
    },
    {
      "cell_type": "code",
      "source": [
        "from ultralytics import YOLO\n",
        "\n",
        "model = YOLO(\"yolov8x-seg_custom.yaml\")\n",
        "# model = YOLO(\"/content/runs/segment/train3/weights/best.pt\",task=\"segment\")\n",
        "\n",
        "results = model.train(data=\"custom_data.yaml\", epochs=50, workers=1, batch=8,imgsz=640)"
      ],
      "metadata": {
        "id": "YbFeFuqxg7Uw"
      },
      "execution_count": null,
      "outputs": []
    },
    {
      "cell_type": "code",
      "source": [
        "model_1=YOLO(\"/content/runs/segment/train4/weights/best.pt\",task=\"segment\")"
      ],
      "metadata": {
        "id": "WwZnHZGdiBeu"
      },
      "execution_count": 68,
      "outputs": []
    },
    {
      "cell_type": "code",
      "source": [
        "result=model_1.predict(\"/content/data/train/images/00b5f68e0957cca9.png\")"
      ],
      "metadata": {
        "colab": {
          "base_uri": "https://localhost:8080/"
        },
        "id": "A_ztUQpojGn9",
        "outputId": "14aad12e-a5fa-4f56-a9e3-21dda85d2117"
      },
      "execution_count": 69,
      "outputs": [
        {
          "output_type": "stream",
          "name": "stderr",
          "text": [
            "\n",
            "image 1/1 /content/data/train/images/00b5f68e0957cca9.png: 448x640 (no detections), 11.2ms\n",
            "Speed: 3.1ms preprocess, 11.2ms inference, 0.7ms postprocess per image at shape (1, 3, 448, 640)\n"
          ]
        }
      ]
    },
    {
      "cell_type": "code",
      "source": [
        "for fn in glob.glob(\"/content/data/train/images/*.png\"):\n",
        "  result=model_1.predict(fn)\n",
        "  if len(result[0].boxes.data):\n",
        "    print(\"yes\")"
      ],
      "metadata": {
        "id": "r18glKczjQ1a"
      },
      "execution_count": null,
      "outputs": []
    },
    {
      "cell_type": "code",
      "source": [
        "glob.glob(\"/content/data/train/images/*.png\")"
      ],
      "metadata": {
        "id": "r3l6oVuWjTTs"
      },
      "execution_count": null,
      "outputs": []
    },
    {
      "cell_type": "code",
      "source": [
        "!wget https://cdn.pixabay.com/photo/2019/11/04/08/15/white-duck-4600498_1280.jpg -O \"inp.jpg\""
      ],
      "metadata": {
        "id": "ztgCVN15oqdP"
      },
      "execution_count": null,
      "outputs": []
    },
    {
      "cell_type": "code",
      "source": [
        "!yolo task=segment mode=predict model=/content/runs/segment/train3/weights/best.pt source=inp.jpg"
      ],
      "metadata": {
        "colab": {
          "base_uri": "https://localhost:8080/"
        },
        "id": "bdXwtpjamWue",
        "outputId": "94ac5171-0d88-4021-bd4c-632c3bd96d10"
      },
      "execution_count": 7,
      "outputs": [
        {
          "output_type": "stream",
          "name": "stdout",
          "text": [
            "Ultralytics YOLOv8.0.141 🚀 Python-3.10.6 torch-2.0.1+cu118 CUDA:0 (Tesla T4, 15102MiB)\n",
            "YOLOv8n-seg summary (fused): 195 layers, 3258259 parameters, 0 gradients\n",
            "\n",
            "image 1/1 /content/inp.jpg: 448x640 (no detections), 124.3ms\n",
            "Speed: 3.6ms preprocess, 124.3ms inference, 0.7ms postprocess per image at shape (1, 3, 448, 640)\n",
            "Results saved to \u001b[1mruns/segment/predict3\u001b[0m\n"
          ]
        }
      ]
    },
    {
      "cell_type": "code",
      "source": [
        "from IPython.display import Image\n",
        "Image(\"/content/runs/segment/predict3/inp.jpg\")"
      ],
      "metadata": {
        "id": "bfHn4ZlOoIfI"
      },
      "execution_count": null,
      "outputs": []
    },
    {
      "cell_type": "code",
      "source": [],
      "metadata": {
        "id": "diZlAY_2pDAY"
      },
      "execution_count": null,
      "outputs": []
    }
  ]
}